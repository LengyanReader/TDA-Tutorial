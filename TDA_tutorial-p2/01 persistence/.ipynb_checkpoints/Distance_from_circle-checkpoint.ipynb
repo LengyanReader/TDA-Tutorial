{
 "cells": [
  {
   "cell_type": "markdown",
   "metadata": {},
   "source": [
    "In this notebook we will see how to aproximate persistent homology of a continuous function using cubical complex. \n",
    "For that, we will restrict ourself to $[-2,2] \\times [-2,2]$ domain. On this domain, we create N by N grid of points\n",
    "and, for each grid point, we compute its distance from the unit circle $x^2+y^2=1.$ Note that this distance from\n",
    "a cycle for a point $(x,y)$ is $abs( norm(x^2-y^2)-1 ).$ This property is used in the computations below. "
   ]
  },
  {
   "cell_type": "code",
   "execution_count": null,
   "metadata": {},
   "outputs": [],
   "source": [
    "import numpy as np\n",
    "import math\n",
    "import gudhi as gd\n",
    "from matplotlib import pyplot as plt  \n",
    "%matplotlib inline"
   ]
  },
  {
   "cell_type": "code",
   "execution_count": null,
   "metadata": {},
   "outputs": [],
   "source": [
    "#Here we create N by N grid\n",
    "N = 100   \n",
    "array = np.zeros((2*N+1,2*N+1))\n",
    "xExtrem = 2;\n",
    "yExtrem = 2;\n",
    "\n",
    "bitmap = []\n",
    "for i in range(0,2*N+1):\n",
    "    for j in range (0,2*N+1):\n",
    "        x = i/(2*float(N)+1)*2*float(xExtrem)-xExtrem\n",
    "        y = j/(2*float(N)+1)*2*float(xExtrem)-xExtrem\n",
    "        norm = math.sqrt( x*x + y*y )\n",
    "        norm =  math.fabs(norm-1)\n",
    "        array[i][j] = norm\n",
    "        bitmap.append(norm)   "
   ]
  },
  {
   "cell_type": "code",
   "execution_count": null,
   "metadata": {},
   "outputs": [],
   "source": [
    "#Here we will display the image corresponding to the values of points in the grid:\n",
    "plt.imshow(array, cmap='gray', interpolation='nearest', vmin=np.amin(array), vmax=np.amax(array))\n",
    "plt.show()      "
   ]
  },
  {
   "cell_type": "code",
   "execution_count": null,
   "metadata": {},
   "outputs": [],
   "source": [
    "#Given the input data we can buld a Gudhi btmap cubical complex:\n",
    "bcc = gd.CubicalComplex(top_dimensional_cells = bitmap, dimensions=[2*N+1,2*N+1])\n",
    "persistence = bcc.persistence()\n",
    "gd.plot_persistence_diagram(persistence) \n",
    "plt.show()"
   ]
  },
  {
   "cell_type": "code",
   "execution_count": null,
   "metadata": {},
   "outputs": [],
   "source": []
  }
 ],
 "metadata": {
  "kernelspec": {
   "display_name": "Python 3",
   "language": "python",
   "name": "python3"
  },
  "language_info": {
   "codemirror_mode": {
    "name": "ipython",
    "version": 3
   },
   "file_extension": ".py",
   "mimetype": "text/x-python",
   "name": "python",
   "nbconvert_exporter": "python",
   "pygments_lexer": "ipython3",
   "version": "3.8.5"
  }
 },
 "nbformat": 4,
 "nbformat_minor": 4
}
