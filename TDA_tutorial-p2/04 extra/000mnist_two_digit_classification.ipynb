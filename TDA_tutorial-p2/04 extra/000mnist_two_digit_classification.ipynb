{
 "cells": [
  {
   "cell_type": "markdown",
   "metadata": {},
   "source": [
    "In this exercise we will select two digits from MNIST dataset: 0 and 1. For each of the obtained images we will compute one dimensional persistence homology and attempt to use it to classify those two digits. Please think why this may potentially work for this pair of digits. Name pair of digits that will be much more difficult to distinguish."
   ]
  },
  {
   "cell_type": "code",
   "execution_count": 1,
   "metadata": {},
   "outputs": [],
   "source": [
    "import matplotlib.pyplot as plt\n",
    "import numpy as np\n",
    "from sklearn.datasets import fetch_openml\n",
    "import gudhi as gd\n",
    "import gudhi.representations\n",
    "\n",
    "from sklearn.model_selection import train_test_split\n",
    "from sklearn import svm"
   ]
  },
  {
   "cell_type": "code",
   "execution_count": 2,
   "metadata": {},
   "outputs": [],
   "source": [
    "X, y = fetch_openml('mnist_784', version=1, return_X_y=True, as_frame=False)"
   ]
  },
  {
   "cell_type": "code",
   "execution_count": 3,
   "metadata": {},
   "outputs": [
    {
     "name": "stdout",
     "output_type": "stream",
     "text": [
      "5\n"
     ]
    },
    {
     "data": {
      "image/png": "[encoded data removed]",
      "text/plain": [
       "<Figure size 432x288 with 1 Axes>"
      ]
     },
     "metadata": {
      "needs_background": "light"
     },
     "output_type": "display_data"
    }
   ],
   "source": [
    "#Let us visualize a sample digit. \n",
    "nr = 0\n",
    "im1 = X[nr].reshape(28,28)\n",
    "plt.imshow(im1)\n",
    "print( y[nr] )"
   ]
  },
  {
   "cell_type": "code",
   "execution_count": 4,
   "metadata": {},
   "outputs": [],
   "source": [
    "first = []\n",
    "second = []\n",
    "for i in range (0,len(X)):\n",
    "    if ( y[i] == '0' ):\n",
    "        first.append( X[i] )\n",
    "    else:\n",
    "        if ( y[i] == '1' ):\n",
    "            second.append( X[i] )"
   ]
  },
  {
   "cell_type": "code",
   "execution_count": 6,
   "metadata": {},
   "outputs": [
    {
     "name": "stdout",
     "output_type": "stream",
     "text": [
      "6903\n",
      "7877\n"
     ]
    }
   ],
   "source": [
    "print(len(first))\n",
    "print(len(second))"
   ]
  },
  {
   "cell_type": "code",
   "execution_count": 7,
   "metadata": {},
   "outputs": [],
   "source": [
    "#Let us compute persistent homology of the of the obtained images:\n",
    "pers = []\n",
    "labs = []\n",
    "for x in first:\n",
    "    bcc = gd.CubicalComplex(top_dimensional_cells = x, dimensions=[28,28])\n",
    "    persistence = bcc.persistence()\n",
    "    p = bcc.persistence_intervals_in_dimension(0)\n",
    "    #We need to remove the infinite interval - as it is always last, we remove the last row\n",
    "    p = p[0:len(p)-1,:]\n",
    "    pers.append( p )\n",
    "    labs.append(0)\n",
    "    \n",
    "for x in second:\n",
    "    bcc = gd.CubicalComplex(top_dimensional_cells = x, dimensions=[28,28])\n",
    "    persistence = bcc.persistence()\n",
    "    p = bcc.persistence_intervals_in_dimension(0) \n",
    "    #We need to remove the infinite interval - as it is always last, we remove the last row\n",
    "    p = p[0:len(p)-1,:]\n",
    "    pers.append( p )\n",
    "    labs.append(1)"
   ]
  },
  {
   "cell_type": "code",
   "execution_count": 8,
   "metadata": {},
   "outputs": [],
   "source": [
    "#Let us vectorize all the persistence using persistence images. \n",
    "nr_of_pixels = 20\n",
    "PI = gd.representations.PersistenceImage(bandwidth=50, weight=lambda x: x[1]**2, \n",
    "im_range=[0,256,0,256], resolution=[nr_of_pixels,nr_of_pixels])\n",
    "vectorized = []\n",
    "for p in pers:\n",
    "    pi = PI.fit_transform([p])\n",
    "    pi = pi.reshape( nr_of_pixels*nr_of_pixels )\n",
    "    vectorized.append( pi )"
   ]
  },
  {
   "cell_type": "code",
   "execution_count": 9,
   "metadata": {},
   "outputs": [
    {
     "data": {
      "text/plain": [
       "<matplotlib.image.AxesImage at 0x7fc6bc0812b0>"
      ]
     },
     "execution_count": 9,
     "metadata": {},
     "output_type": "execute_result"
    },
    {
     "data": {
      "image/png": "[encoded data removed]",
      "text/plain": [
       "<Figure size 432x288 with 1 Axes>"
      ]
     },
     "metadata": {
      "needs_background": "light"
     },
     "output_type": "display_data"
    }
   ],
   "source": [
    "#Here we can take a look at our persistence images:\n",
    "nr_of_persistence_image = 12000\n",
    "plt.imshow(np.flip(np.reshape(vectorized[nr_of_persistence_image], [nr_of_pixels,nr_of_pixels]), 0))"
   ]
  },
  {
   "cell_type": "code",
   "execution_count": 10,
   "metadata": {},
   "outputs": [
    {
     "name": "stdout",
     "output_type": "stream",
     "text": [
      "(8868, 400)\n"
     ]
    }
   ],
   "source": [
    "#Spiit the data for train and test\n",
    "X_train, X_test, y_train, y_test = train_test_split( vectorized, labs, test_size=0.4, random_state=0)\n",
    "\n",
    "print( np.shape(X_train) )"
   ]
  },
  {
   "cell_type": "code",
   "execution_count": 11,
   "metadata": {},
   "outputs": [
    {
     "data": {
      "text/plain": [
       "0.9697225981055481"
      ]
     },
     "execution_count": 11,
     "metadata": {},
     "output_type": "execute_result"
    }
   ],
   "source": [
    "#Let us run very basic SVN on our data!\n",
    "clf = svm.SVC(kernel='linear', C=1).fit(X_train, y_train)\n",
    "clf.score(X_test, y_test)"
   ]
  },
  {
   "cell_type": "markdown",
   "metadata": {},
   "source": [
    "As you may observe, the classification works very well for digits like:\n",
    "0 vs 1,2,3,5,7,8 as well as \n",
    "8 vs digits that do not happen to enclose a nontrivial cycle. \n",
    "Zero dimensional persistence homology we use here capture exactly this phenomena. \n",
    "Hovewer, if we consider digit 1 vs digit 2, this is not the case anymore and the results of classification\n",
    "are considerably worst."
   ]
  }
 ],
 "metadata": {
  "kernelspec": {
   "display_name": "Python 3",
   "language": "python",
   "name": "python3"
  },
  "language_info": {
   "codemirror_mode": {
    "name": "ipython",
    "version": 3
   },
   "file_extension": ".py",
   "mimetype": "text/x-python",
   "name": "python",
   "nbconvert_exporter": "python",
   "pygments_lexer": "ipython3",
   "version": "3.8.5"
  }
 },
 "nbformat": 4,
 "nbformat_minor": 4
}
