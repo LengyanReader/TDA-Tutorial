{
 "cells": [
  {
   "cell_type": "markdown",
   "metadata": {},
   "source": [
    "In this exercise we will build a topological space out of lego blocks - simplices. We will build a triangulation of a torus - given below. Your task is to fill in some missing parts of simplices and to compute homology of a projective plane. What are the Betti numbers of the projective plane compared to those of torus?"
   ]
  },
  {
   "cell_type": "code",
   "execution_count": 1,
   "metadata": {},
   "outputs": [],
   "source": [
    "import gudhi as gd"
   ]
  },
  {
   "cell_type": "code",
   "execution_count": 2,
   "metadata": {},
   "outputs": [],
   "source": [
    "#Now, let us construct a topogical space - a projective plane\n",
    "#We will do it by explicitelly listing the simplices of the triangulation of a projective plane and \n",
    "#inputing them to so called simplex tree data structure (available in Gudhi)\n",
    "#Here is our triangulation:\n",
    "#   0-----4-----3-----0\n",
    "#   | \\   | \\   | \\   |\n",
    "#   |   \\ |   \\ |    \\|\n",
    "#   1-----8-----7-----2\n",
    "#   | \\   | \\   | \\   |\n",
    "#   |   \\ |   \\ |   \\ |\n",
    "#   2-----5-----6-----1\n",
    "#   | \\   | \\   | \\   |\n",
    "#   |   \\ |   \\ |   \\ |\n",
    "#   0-----3-----4-----0"
   ]
  },
  {
   "cell_type": "code",
   "execution_count": 3,
   "metadata": {},
   "outputs": [
    {
     "name": "stdout",
     "output_type": "stream",
     "text": [
      "dimension= 2\n"
     ]
    }
   ],
   "source": [
    "st = gd.SimplexTree()\n",
    "st.insert([0,1,8])\n",
    "st.insert([0,4,8])\n",
    "st.insert([4,7,8])\n",
    "st.insert([3,4,7])\n",
    "st.insert([3,2,7])\n",
    "st.insert([0,2,3])\n",
    "st.insert([1,2,5])\n",
    "st.insert([1,5,8])\n",
    "st.insert([5,6,8])\n",
    "st.insert([6,7,8])\n",
    "st.insert([1,6,7])\n",
    "st.insert([1,2,7])\n",
    "st.insert([0,2,3])\n",
    "st.insert([2,3,5])\n",
    "st.insert([3,4,5])\n",
    "st.insert([4,5,6])\n",
    "st.insert([0,4,6])\n",
    "st.insert([0,1,6])\n",
    "\n",
    "print(\"dimension=\", st.dimension())\n"
   ]
  },
  {
   "cell_type": "code",
   "execution_count": 4,
   "metadata": {},
   "outputs": [
    {
     "name": "stdout",
     "output_type": "stream",
     "text": [
      "num_simplices= 52\n",
      "num_vertices= 9\n",
      "0-simplices  9\n",
      "1-simplices 26\n",
      "2-simplices 17\n"
     ]
    }
   ],
   "source": [
    "print(\"num_simplices=\", st.num_simplices())\n",
    "print(\"num_vertices=\", st.num_vertices())\n",
    "len( list(st.get_skeleton(0)) ) \n",
    "\n",
    "print(\"0-simplices \", len(list(st.get_skeleton(0))) )\n",
    "print(\"1-simplices\", len(list(st.get_skeleton(1))) - len(list(st.get_skeleton(0))) )\n",
    "print(\"2-simplices\", len(list(st.get_skeleton(2))) - len(list(st.get_skeleton(1))) )"
   ]
  },
  {
   "cell_type": "code",
   "execution_count": 5,
   "metadata": {},
   "outputs": [
    {
     "data": {
      "text/plain": [
       "[1, 1, 0]"
      ]
     },
     "execution_count": 5,
     "metadata": {},
     "output_type": "execute_result"
    }
   ],
   "source": [
    "#This is for Betti numbers computations:\n",
    "st.persistence(persistence_dim_max=True)\n",
    "st.betti_numbers()"
   ]
  },
  {
   "cell_type": "code",
   "execution_count": null,
   "metadata": {},
   "outputs": [],
   "source": []
  }
 ],
 "metadata": {
  "kernelspec": {
   "display_name": "Python 3 (ipykernel)",
   "language": "python",
   "name": "python3"
  },
  "language_info": {
   "codemirror_mode": {
    "name": "ipython",
    "version": 3
   },
   "file_extension": ".py",
   "mimetype": "text/x-python",
   "name": "python",
   "nbconvert_exporter": "python",
   "pygments_lexer": "ipython3",
   "version": "3.10.6"
  }
 },
 "nbformat": 4,
 "nbformat_minor": 4
}
